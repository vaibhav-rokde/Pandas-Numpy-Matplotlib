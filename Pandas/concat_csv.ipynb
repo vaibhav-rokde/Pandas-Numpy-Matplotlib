{
  "nbformat": 4,
  "nbformat_minor": 0,
  "metadata": {
    "colab": {
      "provenance": []
    },
    "kernelspec": {
      "name": "python3",
      "display_name": "Python 3"
    },
    "language_info": {
      "name": "python"
    }
  },
  "cells": [
    {
      "cell_type": "code",
      "execution_count": null,
      "metadata": {
        "colab": {
          "base_uri": "https://localhost:8080/"
        },
        "id": "FyUX232UXAnS",
        "outputId": "d65b2a59-c65b-4495-d029-56690adf4680"
      },
      "outputs": [
        {
          "output_type": "stream",
          "name": "stdout",
          "text": [
            "820\n",
            "1630\n",
            "810\n",
            "File saved successfully.\n"
          ]
        }
      ],
      "source": [
        "import os\n",
        "import pandas as pd\n",
        "\n",
        "def concatenate_csv_files(folder_path, output_file):\n",
        "    # Get all file names in the folder\n",
        "    file_names = os.listdir(folder_path)\n",
        "    csv_files = [file for file in file_names if file.endswith('.csv')]\n",
        "\n",
        "    # Initialize an empty dataframe\n",
        "    concatenated_df = pd.DataFrame()\n",
        "\n",
        "    # Concatenate all CSV files into one dataframe\n",
        "    for file in csv_files:\n",
        "        file_path = os.path.join(folder_path, file)\n",
        "        df = pd.read_csv(file_path)\n",
        "        concatenated_df = pd.concat([concatenated_df, df], ignore_index=True)\n",
        "\n",
        "\n",
        "\n",
        "    print(concatenated_df['Mobile No.'].duplicated().sum())\n",
        "    print(len(concatenated_df))\n",
        "    # Drop rows with duplicate values in the 'Name' column\n",
        "    concatenated_df = concatenated_df[~concatenated_df['Mobile No.'].duplicated()]\n",
        "    print(len(concatenated_df))\n",
        "        # Save the concatenated dataframe as a CSV file\n",
        "    concatenated_df=concatenated_df.reset_index()\n",
        "    concatenated_df = concatenated_df.drop('Sr. No.', axis=1)\n",
        "    \n",
        "    concatenated_df.to_csv(output_file, index=False)\n",
        "    print(\"File saved successfully.\")\n",
        "\n",
        "# Example usage\n",
        "folder_path = ''\n",
        "output_file = ''\n",
        "\n",
        "concatenate_csv_files(folder_path, output_file)"
      ]
    },
    {
      "cell_type": "code",
      "source": [
        "import os\n",
        "import pandas as pd\n",
        "\n",
        "def concatenate_csv_files(folder_path, output_file):\n",
        "    # Get all file names in the folder\n",
        "    file_names = os.listdir(folder_path)\n",
        "    csv_files = [file for file in file_names if file.endswith('.xlsx')]\n",
        "\n",
        "    # Initialize an empty dataframe\n",
        "    concatenated_df = pd.DataFrame()\n",
        "\n",
        "    # Concatenate all CSV files into one dataframe\n",
        "    for file in csv_files:\n",
        "        file_path = os.path.join(folder_path, file)\n",
        "        df = pd.read_excel(file_path)\n",
        "        concatenated_df = pd.concat([concatenated_df, df], ignore_index=True)\n",
        "\n",
        "\n",
        "    \n",
        "    concatenated_df.to_csv(output_file, index=False)\n",
        "    print(\"File saved successfully.\")\n",
        "\n",
        "# Example usage\n",
        "folder_path = ''\n",
        "output_file = ''\n",
        "\n",
        "concatenate_csv_files(folder_path, output_file)"
      ],
      "metadata": {
        "id": "EvWGTTSg792D",
        "colab": {
          "base_uri": "https://localhost:8080/"
        },
        "outputId": "04f67129-edea-4ecd-ae6d-aae3c4e5914e"
      },
      "execution_count": null,
      "outputs": [
        {
          "output_type": "stream",
          "name": "stdout",
          "text": [
            "File saved successfully.\n"
          ]
        }
      ]
    },
    {
      "cell_type": "code",
      "source": [
        "from google.colab import drive\n",
        "drive.mount('/content/drive')"
      ],
      "metadata": {
        "colab": {
          "base_uri": "https://localhost:8080/"
        },
        "id": "3VfeNOMcXHDH",
        "outputId": "ddc7a0aa-809d-444b-c88b-5a65a403195c"
      },
      "execution_count": null,
      "outputs": [
        {
          "output_type": "stream",
          "name": "stdout",
          "text": [
            "Drive already mounted at /content/drive; to attempt to forcibly remount, call drive.mount(\"/content/drive\", force_remount=True).\n"
          ]
        }
      ]
    },
    {
      "cell_type": "code",
      "source": [],
      "metadata": {
        "id": "s3DR64IVXHrX"
      },
      "execution_count": null,
      "outputs": []
    }
  ]
}